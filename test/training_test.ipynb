{
  "cells": [
    {
      "cell_type": "code",
      "execution_count": null,
      "metadata": {
        "colab": {
          "base_uri": "https://localhost:8080/"
        },
        "id": "cBEUKOBEMVMQ",
        "outputId": "1f808c0e-bc66-4f8b-e3c4-233ffcf1f674"
      },
      "outputs": [
        {
          "output_type": "stream",
          "name": "stdout",
          "text": [
            "Mounted at /content/drive\n"
          ]
        }
      ],
      "source": [
        "from google.colab import drive\n",
        "drive.mount('/content/drive')"
      ]
    },
    {
      "cell_type": "code",
      "execution_count": null,
      "metadata": {
        "id": "PQ5P1SNVme6n"
      },
      "outputs": [],
      "source": [
        "import os \n",
        "os.chdir('/content/drive/MyDrive/Colab Notebooks/Hackerton')"
      ]
    },
    {
      "cell_type": "code",
      "execution_count": null,
      "metadata": {
        "colab": {
          "base_uri": "https://localhost:8080/"
        },
        "id": "7_ZJBqpguZDP",
        "outputId": "49e88463-7e1f-49d6-d82e-2f7f08e6e92a"
      },
      "outputs": [
        {
          "output_type": "stream",
          "name": "stdout",
          "text": [
            "\u001b[K     |████████████████████████████████| 1.8 MB 5.2 MB/s \n",
            "\u001b[K     |████████████████████████████████| 146 kB 89.6 MB/s \n",
            "\u001b[K     |████████████████████████████████| 181 kB 104.8 MB/s \n",
            "\u001b[K     |████████████████████████████████| 63 kB 2.4 MB/s \n",
            "\u001b[?25h  Building wheel for pathtools (setup.py) ... \u001b[?25l\u001b[?25hdone\n"
          ]
        }
      ],
      "source": [
        "!pip install --upgrade wandb -qq"
      ]
    },
    {
      "cell_type": "code",
      "execution_count": null,
      "metadata": {
        "colab": {
          "base_uri": "https://localhost:8080/"
        },
        "id": "jHDsqk6eJz6o",
        "outputId": "49091f81-b784-4447-af74-4a41d808b742"
      },
      "outputs": [
        {
          "output_type": "stream",
          "name": "stdout",
          "text": [
            "Looking in indexes: https://pypi.org/simple, https://us-python.pkg.dev/colab-wheels/public/simple/\n",
            "Requirement already satisfied: wandb in /usr/local/lib/python3.7/dist-packages (0.12.21)\n",
            "Requirement already satisfied: setproctitle in /usr/local/lib/python3.7/dist-packages (from wandb) (1.2.3)\n",
            "Requirement already satisfied: setuptools in /usr/local/lib/python3.7/dist-packages (from wandb) (57.4.0)\n",
            "Requirement already satisfied: pathtools in /usr/local/lib/python3.7/dist-packages (from wandb) (0.1.2)\n",
            "Requirement already satisfied: shortuuid>=0.5.0 in /usr/local/lib/python3.7/dist-packages (from wandb) (1.0.9)\n",
            "Requirement already satisfied: GitPython>=1.0.0 in /usr/local/lib/python3.7/dist-packages (from wandb) (3.1.27)\n",
            "Requirement already satisfied: docker-pycreds>=0.4.0 in /usr/local/lib/python3.7/dist-packages (from wandb) (0.4.0)\n",
            "Requirement already satisfied: promise<3,>=2.0 in /usr/local/lib/python3.7/dist-packages (from wandb) (2.3)\n",
            "Requirement already satisfied: Click!=8.0.0,>=7.0 in /usr/local/lib/python3.7/dist-packages (from wandb) (7.1.2)\n",
            "Requirement already satisfied: PyYAML in /usr/local/lib/python3.7/dist-packages (from wandb) (3.13)\n",
            "Requirement already satisfied: psutil>=5.0.0 in /usr/local/lib/python3.7/dist-packages (from wandb) (5.4.8)\n",
            "Requirement already satisfied: sentry-sdk>=1.0.0 in /usr/local/lib/python3.7/dist-packages (from wandb) (1.7.1)\n",
            "Requirement already satisfied: protobuf<4.0dev,>=3.12.0 in /usr/local/lib/python3.7/dist-packages (from wandb) (3.17.3)\n",
            "Requirement already satisfied: requests<3,>=2.0.0 in /usr/local/lib/python3.7/dist-packages (from wandb) (2.23.0)\n",
            "Requirement already satisfied: six>=1.13.0 in /usr/local/lib/python3.7/dist-packages (from wandb) (1.15.0)\n",
            "Requirement already satisfied: typing-extensions>=3.7.4.3 in /usr/local/lib/python3.7/dist-packages (from GitPython>=1.0.0->wandb) (4.1.1)\n",
            "Requirement already satisfied: gitdb<5,>=4.0.1 in /usr/local/lib/python3.7/dist-packages (from GitPython>=1.0.0->wandb) (4.0.9)\n",
            "Requirement already satisfied: smmap<6,>=3.0.1 in /usr/local/lib/python3.7/dist-packages (from gitdb<5,>=4.0.1->GitPython>=1.0.0->wandb) (5.0.0)\n",
            "Requirement already satisfied: chardet<4,>=3.0.2 in /usr/local/lib/python3.7/dist-packages (from requests<3,>=2.0.0->wandb) (3.0.4)\n",
            "Requirement already satisfied: certifi>=2017.4.17 in /usr/local/lib/python3.7/dist-packages (from requests<3,>=2.0.0->wandb) (2022.6.15)\n",
            "Requirement already satisfied: urllib3!=1.25.0,!=1.25.1,<1.26,>=1.21.1 in /usr/local/lib/python3.7/dist-packages (from requests<3,>=2.0.0->wandb) (1.24.3)\n",
            "Requirement already satisfied: idna<3,>=2.5 in /usr/local/lib/python3.7/dist-packages (from requests<3,>=2.0.0->wandb) (2.10)\n"
          ]
        }
      ],
      "source": [
        "!pip install wandb --upgrade"
      ]
    },
    {
      "cell_type": "code",
      "execution_count": null,
      "metadata": {
        "colab": {
          "base_uri": "https://localhost:8080/"
        },
        "id": "z4HzZkj2JEGo",
        "outputId": "f5a97895-d717-479b-e35a-875b5f527a04"
      },
      "outputs": [
        {
          "output_type": "stream",
          "name": "stdout",
          "text": [
            "Drive already mounted at /content/drive; to attempt to forcibly remount, call drive.mount(\"/content/drive\", force_remount=True).\n",
            "Drive already mounted at /content/drive; to attempt to forcibly remount, call drive.mount(\"/content/drive\", force_remount=True).\n"
          ]
        }
      ],
      "source": [
        "import os, sys\n",
        "import numpy as np\n",
        "from pathlib import Path\n",
        "import pandas as pd\n",
        "from pprint import pprint\n",
        "import easydict\n",
        "import wandb\n",
        "import torch\n",
        "\n",
        "from lane_change_risk_detection.dataset import DataSet\n",
        "from lane_change_risk_detection.models import LSTM_Classifier, CNN_LSTM_Classifier, CNN_Classifier, ResNet50_LSTM_Classifier \n",
        "from lane_change_risk_detection.train import Trainer\n",
        "\n",
        "import torchvision\n",
        "import torchvision.transforms as transforms\n",
        "from torch.utils.data import DataLoader\n",
        "\n",
        "PROJECT_NAME = \"socar_hackerton\""
      ]
    },
    {
      "cell_type": "code",
      "execution_count": null,
      "metadata": {
        "colab": {
          "base_uri": "https://localhost:8080/",
          "height": 104
        },
        "id": "rY0yR4i-O8SE",
        "outputId": "bb64e6eb-1a70-4e66-d9e1-0fde08c39c4f"
      },
      "outputs": [
        {
          "output_type": "display_data",
          "data": {
            "text/plain": [
              "<IPython.core.display.Javascript object>"
            ],
            "application/javascript": [
              "\n",
              "        window._wandbApiKey = new Promise((resolve, reject) => {\n",
              "            function loadScript(url) {\n",
              "            return new Promise(function(resolve, reject) {\n",
              "                let newScript = document.createElement(\"script\");\n",
              "                newScript.onerror = reject;\n",
              "                newScript.onload = resolve;\n",
              "                document.body.appendChild(newScript);\n",
              "                newScript.src = url;\n",
              "            });\n",
              "            }\n",
              "            loadScript(\"https://cdn.jsdelivr.net/npm/postmate/build/postmate.min.js\").then(() => {\n",
              "            const iframe = document.createElement('iframe')\n",
              "            iframe.style.cssText = \"width:0;height:0;border:none\"\n",
              "            document.body.appendChild(iframe)\n",
              "            const handshake = new Postmate({\n",
              "                container: iframe,\n",
              "                url: 'https://wandb.ai/authorize'\n",
              "            });\n",
              "            const timeout = setTimeout(() => reject(\"Couldn't auto authenticate\"), 5000)\n",
              "            handshake.then(function(child) {\n",
              "                child.on('authorize', data => {\n",
              "                    clearTimeout(timeout)\n",
              "                    resolve(data)\n",
              "                });\n",
              "            });\n",
              "            })\n",
              "        });\n",
              "    "
            ]
          },
          "metadata": {}
        },
        {
          "output_type": "stream",
          "name": "stderr",
          "text": [
            "\u001b[34m\u001b[1mwandb\u001b[0m: Appending key for api.wandb.ai to your netrc file: /root/.netrc\n"
          ]
        },
        {
          "output_type": "display_data",
          "data": {
            "text/plain": [
              "<IPython.core.display.HTML object>"
            ],
            "text/html": [
              "Tracking run with wandb version 0.12.21"
            ]
          },
          "metadata": {}
        },
        {
          "output_type": "display_data",
          "data": {
            "text/plain": [
              "<IPython.core.display.HTML object>"
            ],
            "text/html": [
              "Run data is saved locally in <code>/content/drive/MyDrive/Colab Notebooks/Hackerton/wandb/run-20220713_134335-1s0i5eb0</code>"
            ]
          },
          "metadata": {}
        },
        {
          "output_type": "display_data",
          "data": {
            "text/plain": [
              "<IPython.core.display.HTML object>"
            ],
            "text/html": [
              "Syncing run <strong><a href=\"https://wandb.ai/suwoong/socar_hackerton/runs/1s0i5eb0\" target=\"_blank\">silvery-dream-67</a></strong> to <a href=\"https://wandb.ai/suwoong/socar_hackerton\" target=\"_blank\">Weights & Biases</a> (<a href=\"https://wandb.me/run\" target=\"_blank\">docs</a>)<br/>"
            ]
          },
          "metadata": {}
        }
      ],
      "source": [
        "args_parsed = easydict.EasyDict({\n",
        "  'input_path': '/content/drive/MyDrive/Colab Notebooks/Hackerton/data/masked_images',\n",
        "\t'pkl_path':'/content/drive/MyDrive/Colab Notebooks/Hackerton/save_train_data/save_dataset.pkl',\n",
        "\t'load_pkl': True,\n",
        "\t'save_pkl_path':'/content/drive/MyDrive/Colab Notebooks/Hackerton/save_train_data/save_dataset.pkl',\n",
        "\t'save_pkl': True,\n",
        "  'model_name': 'cnn_lstm',\n",
        "  'n_folds': 1,\n",
        "  'train_ratio': 0.9,\n",
        "  'downsample': False,\n",
        "  'seed': 0,\n",
        "  'test_step': 10,\n",
        "  'device': 'cuda',\n",
        "  'epochs': 100,\n",
        "  'batch_size': 32,\n",
        "  'bnorm': False,\n",
        "  'dropout': 0.1,\n",
        "  'learning_rate': 3e-5,\n",
        "  'weight_decay': 5e-4 \n",
        "\n",
        "   })\n",
        "class Config:\n",
        "\n",
        "  def __init__(self, args):\n",
        "    self.args_parsed = args\n",
        "    self.wandb = wandb.init(project=PROJECT_NAME)\n",
        "    self.wandb_config = self.wandb.config\n",
        "\n",
        "    for arg_name in vars(self.args_parsed):\n",
        "      self.__dict__[arg_name] = getattr(self.args_parsed, arg_name)\n",
        "      self.wandb_config[arg_name] = getattr(self.args_parsed, arg_name)\n",
        "    self.wandb_base_dir = Path('/content/drive/MyDrive/Colab Notebooks/Hackerton/data/masked_images').resolve\n",
        "\n",
        "def load_dataset(raw_image_path, risk_path, config=None):\n",
        "  dataset = DataSet()\n",
        "  dataset.read_video(raw_image_path, option='fixed frame amount', number_of_frames = 50, scaling = 'scale', scale_x = 0.1, scale_y = 0.1)\n",
        "  dataset.read_risk_data(risk_path)\n",
        "  dataset.convert_risk_to_one_hot(risk_threshold = 0.05)\n",
        "  if config != None and config.save_pkl:\n",
        "    parent_path = '/'.join(config.save_pkl_path.split('/')[:-1]) + '/'\n",
        "    fname = config.save_pkl_path.split('/')[-1]\n",
        "    dataset.save(save_dir = parent_path, filename=fname)\n",
        "    print('Saved pickled dataset')\n",
        "  return dataset\n",
        "\n",
        "\n",
        "def load_pickle(pkl_path):\n",
        "\tdataset = DataSet().loader(str(pkl_path))\n",
        "\treturn dataset\n",
        "\n",
        "\n",
        "\n",
        "def reshape_dataset(dataset):\n",
        "\t'''\n",
        "\t\tinput -> (batch, frames, height, width, channels)\n",
        "\t\toutput -> (batch, frames, channels, height, width)\n",
        "\t'''\n",
        "\treturn np.swapaxes(np.swapaxes(dataset, -1, -3), -1, -2)\n",
        "\n",
        "def train_model(dataset, config):\n",
        "\tpth_path = '/content/drive/MyDrive/Colab Notebooks/Hackerton/save_train_data/save_parameter.pth'\n",
        "\tdataset.video = reshape_dataset(dataset.video)\n",
        "\tvideo_sequences = dataset.video\n",
        "\tlabels = dataset.risk_one_hot\n",
        "\tprint(len(labels))\n",
        "\tclip_names = np.array(['default_all']*len(video_sequences))\n",
        "\tif hasattr(dataset, 'foldernames'): \n",
        "\t\tclip_names = np.concatenate((clip_names, dataset.foldernames), axis=0)\n",
        "\n",
        "\tif config.model_name == 'gru':\n",
        "\t\tmodel = LSTM_Classifier(video_sequences.shape, 'gru', config)\n",
        "\telif config.model_name == 'lstm':\n",
        "\t\tmodel = LSTM_Classifier(video_sequences.shape, 'lstm', config)\n",
        "\telif config.model_name == 'cnn':\n",
        "\t\tmodel = CNN_Classifier(video_sequences.shape, config)\n",
        "\telif config.model_name == 'cnn_lstm':\n",
        "\t\tmodel = CNN_LSTM_Classifier(video_sequences.shape, config)\n",
        "\telif config.model_name == 'resnet': \n",
        "\t\tmodel = ResNet50_LSTM_Classifier(video_sequences.shape, config)\n",
        "\t\n",
        "\ttrainer = Trainer(config)\n",
        "\ttrainer.init_dataset(video_sequences, labels, clip_names)\n",
        "\ttrainer.build_model(model)\n",
        " \n",
        "\tif config.n_folds > 1:\n",
        "\t\ttrainer.train_n_fold_cross_val()\n",
        "\telse:\n",
        "\t\ttrainer.train_model()\n",
        "\ttorch.save(model.state_dict(), pth_path)\n",
        " \n",
        "\n",
        "config = Config(args_parsed)\n",
        "image_path = '/content/drive/MyDrive/Colab Notebooks/Hackerton/data/input'\n",
        "risk = '/content/drive/MyDrive/Colab Notebooks/Hackerton/test/LCTable.csv'\n",
        "\n",
        "#if config.load_pkl:\n",
        "#\tdataset = load_pickle(Path(config.pkl_path).resolve())\n",
        "#else:\n",
        "#\tdataset = load_dataset(image_path, risk, config=config)\n",
        "\n",
        "\t\n",
        "# train model\n",
        "#model = train_model(dataset, config)"
      ]
    },
    {
      "cell_type": "code",
      "source": [
        "im_path = '/content/drive/MyDrive/Colab Notebooks/Hackerton/data/test_input/'\n",
        "\n",
        "dataset = DataSet()\n",
        "dataset.read_video(im_path, option='fixed frame amount', number_of_frames = 50, scaling = 'scale', scale_x = 0.1, scale_y = 0.1)\n",
        "dataset.video = reshape_dataset(dataset.video)\n",
        "video_sequences = dataset.video\n",
        "\n",
        "#print(video_sequences.shape)\n",
        "#cnn_lstm = CNN_LSTM_Classifier(video_sequences.shape, config)\n",
        "#cnn_lstm.load_state_dict(torch.load('/content/drive/MyDrive/Colab Notebooks/Hackerton/save_train_data/save_parameter.pth'))\n",
        "model = CNN_LSTM_Classifier(video_sequences.shape, config)\n",
        "model.load_state_dict(torch.load('/content/drive/MyDrive/Colab Notebooks/Hackerton/save_train_data/save_parameter.pth'))"
      ],
      "metadata": {
        "colab": {
          "base_uri": "https://localhost:8080/"
        },
        "id": "HL4FSavPfeG2",
        "outputId": "78ea4cd3-737d-4c5e-983a-adaf97a1b8ff"
      },
      "execution_count": null,
      "outputs": [
        {
          "output_type": "stream",
          "name": "stderr",
          "text": [
            "100%|██████████| 2/2 [00:10<00:00,  5.18s/it]\n"
          ]
        },
        {
          "output_type": "execute_result",
          "data": {
            "text/plain": [
              "<All keys matched successfully>"
            ]
          },
          "metadata": {},
          "execution_count": 7
        }
      ]
    },
    {
      "cell_type": "code",
      "source": [
        "print(video_sequences.shape)"
      ],
      "metadata": {
        "colab": {
          "base_uri": "https://localhost:8080/"
        },
        "id": "lOSzu8h9GwK0",
        "outputId": "c6f97a06-d916-4745-8e1c-0cf59d6f55e5"
      },
      "execution_count": null,
      "outputs": [
        {
          "output_type": "stream",
          "name": "stdout",
          "text": [
            "(5, 50, 3, 86, 154)\n"
          ]
        }
      ]
    },
    {
      "cell_type": "code",
      "source": [
        "type(video_sequences)\n",
        "#model.forward(video_sequences)"
      ],
      "metadata": {
        "colab": {
          "base_uri": "https://localhost:8080/"
        },
        "id": "Kmf9svS-Ln1_",
        "outputId": "c273aea4-d649-449d-a032-00512fac6ec1"
      },
      "execution_count": null,
      "outputs": [
        {
          "output_type": "execute_result",
          "data": {
            "text/plain": [
              "numpy.ndarray"
            ]
          },
          "metadata": {},
          "execution_count": 9
        }
      ]
    },
    {
      "cell_type": "code",
      "source": [
        "video_sequences.shape"
      ],
      "metadata": {
        "colab": {
          "base_uri": "https://localhost:8080/"
        },
        "id": "hAGaB5pJSD6h",
        "outputId": "cf3879ee-9a9a-45f2-c3cf-a7b7d324b1f0"
      },
      "execution_count": null,
      "outputs": [
        {
          "output_type": "execute_result",
          "data": {
            "text/plain": [
              "(1, 50, 3, 86, 154)"
            ]
          },
          "metadata": {},
          "execution_count": 10
        }
      ]
    },
    {
      "cell_type": "code",
      "source": [
        "torch_video_sequences = torch.Tensor(video_sequences)\n",
        "type(torch_video_sequences)"
      ],
      "metadata": {
        "colab": {
          "base_uri": "https://localhost:8080/"
        },
        "id": "pQP5lX15QU2z",
        "outputId": "1135b027-1ac2-4d3f-b7b5-c7f45f1dff04"
      },
      "execution_count": null,
      "outputs": [
        {
          "output_type": "execute_result",
          "data": {
            "text/plain": [
              "torch.Tensor"
            ]
          },
          "metadata": {},
          "execution_count": 8
        }
      ]
    },
    {
      "cell_type": "code",
      "source": [
        "with torch.no_grad():\n",
        "    model.eval()\n",
        "    inputs = torch_video_sequences\n",
        "    outputs = model(inputs)\n",
        "    print(outputs)"
      ],
      "metadata": {
        "colab": {
          "base_uri": "https://localhost:8080/"
        },
        "id": "LncXJ4hBT4Al",
        "outputId": "f835f389-d54a-4e06-fa90-c05ad0ec1c69"
      },
      "execution_count": null,
      "outputs": [
        {
          "output_type": "stream",
          "name": "stdout",
          "text": [
            "tensor([[0.8118, 0.1882],\n",
            "        [0.8630, 0.1370]])\n"
          ]
        }
      ]
    },
    {
      "cell_type": "code",
      "source": [
        "from PIL import Image\n",
        "root = '/content/drive/MyDrive/Colab Notebooks/Hackerton/data/input/1/1.jpg'\n",
        "img1 = Image.open(root)\n",
        "print(img1.size)"
      ],
      "metadata": {
        "id": "TlqqwtVv9Z4Y",
        "colab": {
          "base_uri": "https://localhost:8080/"
        },
        "outputId": "00b045ce-3324-42d9-bd09-f120602ff8a6"
      },
      "execution_count": null,
      "outputs": [
        {
          "output_type": "stream",
          "name": "stdout",
          "text": [
            "(1280, 720)\n"
          ]
        }
      ]
    },
    {
      "cell_type": "code",
      "source": [
        "root2 = '/content/drive/MyDrive/Colab Notebooks/Hackerton/data/test_input/1/1.jpg'\n",
        "img2 = Image.open(root2)\n",
        "print(img2.size)"
      ],
      "metadata": {
        "colab": {
          "base_uri": "https://localhost:8080/"
        },
        "id": "0Rib6J8h_0j4",
        "outputId": "04edabfd-7aa5-4dfc-f694-6dae7ba86b6a"
      },
      "execution_count": null,
      "outputs": [
        {
          "output_type": "stream",
          "name": "stdout",
          "text": [
            "(1280, 720)\n"
          ]
        }
      ]
    },
    {
      "cell_type": "code",
      "source": [
        "root3 = '/content/drive/MyDrive/Colab Notebooks/Hackerton/data/test_input/2/1.jpg'\n",
        "img3 = Image.open(root3)\n",
        "print(img3.size)"
      ],
      "metadata": {
        "colab": {
          "base_uri": "https://localhost:8080/"
        },
        "id": "x4EcfOMkAXpR",
        "outputId": "be04158d-b7e6-458b-afa1-e1d921928244"
      },
      "execution_count": null,
      "outputs": [
        {
          "output_type": "stream",
          "name": "stdout",
          "text": [
            "(1024, 450)\n"
          ]
        }
      ]
    },
    {
      "cell_type": "code",
      "source": [
        ""
      ],
      "metadata": {
        "id": "cO89hcXaA24P"
      },
      "execution_count": null,
      "outputs": []
    }
  ],
  "metadata": {
    "accelerator": "GPU",
    "colab": {
      "collapsed_sections": [],
      "machine_shape": "hm",
      "name": "training_test.ipynb",
      "provenance": []
    },
    "gpuClass": "standard",
    "kernelspec": {
      "display_name": "Python 3",
      "name": "python3"
    },
    "language_info": {
      "name": "python"
    }
  },
  "nbformat": 4,
  "nbformat_minor": 0
}